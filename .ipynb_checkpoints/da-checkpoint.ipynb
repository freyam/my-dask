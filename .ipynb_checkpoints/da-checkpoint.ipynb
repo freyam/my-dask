{
 "cells": [
  {
   "cell_type": "code",
   "execution_count": 3,
   "metadata": {},
   "outputs": [],
   "source": [
    "%load_ext autoreload\n",
    "%autoreload 2"
   ]
  },
  {
   "cell_type": "code",
   "execution_count": 7,
   "metadata": {
    "collapsed": true
   },
   "outputs": [
    {
     "ename": "TypeError",
     "evalue": "can only concatenate str (not \"NoneType\") to str",
     "output_type": "error",
     "traceback": [
      "\u001b[0;31m---------------------------------------------------------------------------\u001b[0m",
      "\u001b[0;31mTypeError\u001b[0m                                 Traceback (most recent call last)",
      "\u001b[0;32m~/.local/lib/python3.8/site-packages/IPython/core/formatters.py\u001b[0m in \u001b[0;36m__call__\u001b[0;34m(self, obj)\u001b[0m\n\u001b[1;32m    343\u001b[0m             \u001b[0mmethod\u001b[0m \u001b[0;34m=\u001b[0m \u001b[0mget_real_method\u001b[0m\u001b[0;34m(\u001b[0m\u001b[0mobj\u001b[0m\u001b[0;34m,\u001b[0m \u001b[0mself\u001b[0m\u001b[0;34m.\u001b[0m\u001b[0mprint_method\u001b[0m\u001b[0;34m)\u001b[0m\u001b[0;34m\u001b[0m\u001b[0;34m\u001b[0m\u001b[0m\n\u001b[1;32m    344\u001b[0m             \u001b[0;32mif\u001b[0m \u001b[0mmethod\u001b[0m \u001b[0;32mis\u001b[0m \u001b[0;32mnot\u001b[0m \u001b[0;32mNone\u001b[0m\u001b[0;34m:\u001b[0m\u001b[0;34m\u001b[0m\u001b[0;34m\u001b[0m\u001b[0m\n\u001b[0;32m--> 345\u001b[0;31m                 \u001b[0;32mreturn\u001b[0m \u001b[0mmethod\u001b[0m\u001b[0;34m(\u001b[0m\u001b[0;34m)\u001b[0m\u001b[0;34m\u001b[0m\u001b[0;34m\u001b[0m\u001b[0m\n\u001b[0m\u001b[1;32m    346\u001b[0m             \u001b[0;32mreturn\u001b[0m \u001b[0;32mNone\u001b[0m\u001b[0;34m\u001b[0m\u001b[0;34m\u001b[0m\u001b[0m\n\u001b[1;32m    347\u001b[0m         \u001b[0;32melse\u001b[0m\u001b[0;34m:\u001b[0m\u001b[0;34m\u001b[0m\u001b[0;34m\u001b[0m\u001b[0m\n",
      "\u001b[0;32m~/GitHub/dask/dask/highlevelgraph.py\u001b[0m in \u001b[0;36m_repr_html_\u001b[0;34m(self)\u001b[0m\n\u001b[1;32m   1174\u001b[0m         \u001b[0;32mfor\u001b[0m \u001b[0mi\u001b[0m\u001b[0;34m,\u001b[0m \u001b[0mkey\u001b[0m \u001b[0;32min\u001b[0m \u001b[0menumerate\u001b[0m\u001b[0;34m(\u001b[0m\u001b[0mself\u001b[0m\u001b[0;34m.\u001b[0m\u001b[0m_toposort_layers\u001b[0m\u001b[0;34m(\u001b[0m\u001b[0;34m)\u001b[0m\u001b[0;34m)\u001b[0m\u001b[0;34m:\u001b[0m\u001b[0;34m\u001b[0m\u001b[0;34m\u001b[0m\u001b[0m\n\u001b[1;32m   1175\u001b[0m             \u001b[0mlayer\u001b[0m \u001b[0;34m=\u001b[0m \u001b[0mself\u001b[0m\u001b[0;34m.\u001b[0m\u001b[0mlayers\u001b[0m\u001b[0;34m[\u001b[0m\u001b[0mkey\u001b[0m\u001b[0;34m]\u001b[0m\u001b[0;34m\u001b[0m\u001b[0;34m\u001b[0m\u001b[0m\n\u001b[0;32m-> 1176\u001b[0;31m             layers_html += layer._repr_html_(\n\u001b[0m\u001b[1;32m   1177\u001b[0m                 \u001b[0mlayer_index\u001b[0m\u001b[0;34m=\u001b[0m\u001b[0;34mf\" {i}\"\u001b[0m\u001b[0;34m,\u001b[0m \u001b[0mhighlevelgraph_key\u001b[0m\u001b[0;34m=\u001b[0m\u001b[0mkey\u001b[0m\u001b[0;34m\u001b[0m\u001b[0;34m\u001b[0m\u001b[0m\n\u001b[1;32m   1178\u001b[0m             )\n",
      "\u001b[0;32m~/GitHub/dask/dask/highlevelgraph.py\u001b[0m in \u001b[0;36m_repr_html_\u001b[0;34m(self, layer_index, highlevelgraph_key)\u001b[0m\n\u001b[1;32m    512\u001b[0m                 \u001b[0msvg_repr\u001b[0m \u001b[0;34m=\u001b[0m \u001b[0;34m\"<br />\"\u001b[0m \u001b[0;34m+\u001b[0m \u001b[0msvg\u001b[0m\u001b[0;34m(\u001b[0m\u001b[0mchunks\u001b[0m\u001b[0;34m)\u001b[0m\u001b[0;34m\u001b[0m\u001b[0;34m\u001b[0m\u001b[0m\n\u001b[1;32m    513\u001b[0m \u001b[0;34m\u001b[0m\u001b[0m\n\u001b[0;32m--> 514\u001b[0;31m         \u001b[0minfo\u001b[0m \u001b[0;34m=\u001b[0m \u001b[0mself\u001b[0m\u001b[0;34m.\u001b[0m\u001b[0mlayer_info_dict\u001b[0m\u001b[0;34m(\u001b[0m\u001b[0;34m)\u001b[0m\u001b[0;34m\u001b[0m\u001b[0;34m\u001b[0m\u001b[0m\n\u001b[0m\u001b[1;32m    515\u001b[0m         \u001b[0mlayer_info_table\u001b[0m \u001b[0;34m=\u001b[0m \u001b[0mhtml_from_dict\u001b[0m\u001b[0;34m(\u001b[0m\u001b[0minfo\u001b[0m\u001b[0;34m)\u001b[0m\u001b[0;34m\u001b[0m\u001b[0;34m\u001b[0m\u001b[0m\n\u001b[1;32m    516\u001b[0m         html = f\"\"\"\n",
      "\u001b[0;32m~/GitHub/dask/dask/highlevelgraph.py\u001b[0m in \u001b[0;36mlayer_info_dict\u001b[0;34m(self)\u001b[0m\n\u001b[1;32m    534\u001b[0m         info = {\n\u001b[1;32m    535\u001b[0m             \u001b[0;31m# \"layer_type\": type(self).__name__,\u001b[0m\u001b[0;34m\u001b[0m\u001b[0;34m\u001b[0m\u001b[0;34m\u001b[0m\u001b[0m\n\u001b[0;32m--> 536\u001b[0;31m             \u001b[0;34m\"layer_type\"\u001b[0m\u001b[0;34m:\u001b[0m \u001b[0;34m\"lol\"\u001b[0m \u001b[0;34m+\u001b[0m \u001b[0mself\u001b[0m\u001b[0;34m.\u001b[0m\u001b[0mcollection_annotations\u001b[0m\u001b[0;34m.\u001b[0m\u001b[0mget\u001b[0m\u001b[0;34m(\u001b[0m\u001b[0;34m\"type\"\u001b[0m\u001b[0;34m)\u001b[0m\u001b[0;34m,\u001b[0m\u001b[0;34m\u001b[0m\u001b[0;34m\u001b[0m\u001b[0m\n\u001b[0m\u001b[1;32m    537\u001b[0m             \u001b[0;34m\"is_materialized\"\u001b[0m\u001b[0;34m:\u001b[0m \u001b[0mself\u001b[0m\u001b[0;34m.\u001b[0m\u001b[0mis_materialized\u001b[0m\u001b[0;34m(\u001b[0m\u001b[0;34m)\u001b[0m\u001b[0;34m,\u001b[0m\u001b[0;34m\u001b[0m\u001b[0;34m\u001b[0m\u001b[0m\n\u001b[1;32m    538\u001b[0m         }\n",
      "\u001b[0;31mTypeError\u001b[0m: can only concatenate str (not \"NoneType\") to str"
     ]
    },
    {
     "data": {
      "text/plain": [
       "HighLevelGraph with 2 layers.\n",
       "<dask.highlevelgraph.HighLevelGraph object at 0x7fba50c97670>\n",
       " 0. repartition-merge-bd53299b6105790270bfd1b40206bc7a\n",
       " 1. resample-b3a9af2c7dc97c963da89acdf48253cc"
      ]
     },
     "execution_count": 7,
     "metadata": {},
     "output_type": "execute_result"
    }
   ],
   "source": [
    "import dask\n",
    "import dask.dataframe as dd\n",
    "df = dask.datasets.timeseries()\n"
   ]
  },
  {
   "cell_type": "code",
   "execution_count": 5,
   "metadata": {},
   "outputs": [
    {
     "data": {
      "image/svg+xml": "<?xml version=\"1.0\" encoding=\"UTF-8\" standalone=\"no\"?>\n<!DOCTYPE svg PUBLIC \"-//W3C//DTD SVG 1.1//EN\"\n \"http://www.w3.org/Graphics/SVG/1.1/DTD/svg11.dtd\">\n<!-- Generated by graphviz version 2.47.3 (20210619.2315)\n -->\n<!-- Pages: 1 -->\n<svg width=\"375pt\" height=\"497pt\"\n viewBox=\"0.00 0.00 375.00 497.00\" xmlns=\"http://www.w3.org/2000/svg\" xmlns:xlink=\"http://www.w3.org/1999/xlink\">\n<g id=\"graph0\" class=\"graph\" transform=\"scale(1 1) rotate(0) translate(4 493)\">\n<polygon fill=\"white\" stroke=\"transparent\" points=\"-4,4 -4,-493 371,-493 371,4 -4,4\"/>\n<!-- 8878704664709637137 -->\n<g id=\"node1\" class=\"node\">\n<title>8878704664709637137</title>\n<polygon fill=\"none\" stroke=\"black\" points=\"294.5,-329 57.5,-329 57.5,-288 294.5,-288 294.5,-329\"/>\n<text text-anchor=\"middle\" x=\"176\" y=\"-301\" font-family=\"Times,serif\" font-size=\"30.00\">series&#45;cumsum&#45;#0</text>\n</g>\n<!-- 4418894687593942167 -->\n<g id=\"node6\" class=\"node\">\n<title>4418894687593942167</title>\n<polygon fill=\"none\" stroke=\"black\" points=\"352,-417 0,-417 0,-365 352,-365 352,-417\"/>\n<text text-anchor=\"middle\" x=\"176\" y=\"-381\" font-family=\"Times,serif\" font-size=\"40.00\">repartition&#45;merge&#45;#5</text>\n</g>\n<!-- 8878704664709637137&#45;&gt;4418894687593942167 -->\n<g id=\"edge6\" class=\"edge\">\n<title>8878704664709637137&#45;&gt;4418894687593942167</title>\n<path fill=\"none\" stroke=\"black\" d=\"M176,-329.4C176,-337.01 176,-345.94 176,-354.57\"/>\n<polygon fill=\"black\" stroke=\"black\" points=\"172.5,-354.84 176,-364.84 179.5,-354.84 172.5,-354.84\"/>\n</g>\n<!-- 1431150188965477930 -->\n<g id=\"node2\" class=\"node\">\n<title>1431150188965477930</title>\n<polygon fill=\"none\" stroke=\"black\" points=\"262.5,-36 89.5,-36 89.5,0 262.5,0 262.5,-36\"/>\n<text text-anchor=\"middle\" x=\"176\" y=\"-13\" font-family=\"Times,serif\" font-size=\"20.00\">make&#45;timeseries&#45;#1</text>\n</g>\n<!-- &#45;6532519190736221679 -->\n<g id=\"node3\" class=\"node\">\n<title>&#45;6532519190736221679</title>\n<polygon fill=\"none\" stroke=\"black\" points=\"227,-108 125,-108 125,-72 227,-72 227,-108\"/>\n<text text-anchor=\"middle\" x=\"176\" y=\"-85\" font-family=\"Times,serif\" font-size=\"20.00\">getitem&#45;#2</text>\n</g>\n<!-- 1431150188965477930&#45;&gt;&#45;6532519190736221679 -->\n<g id=\"edge3\" class=\"edge\">\n<title>1431150188965477930&#45;&gt;&#45;6532519190736221679</title>\n<path fill=\"none\" stroke=\"black\" d=\"M176,-36.3C176,-44.02 176,-53.29 176,-61.89\"/>\n<polygon fill=\"black\" stroke=\"black\" points=\"172.5,-61.9 176,-71.9 179.5,-61.9 172.5,-61.9\"/>\n</g>\n<!-- 4659859642307220592 -->\n<g id=\"node4\" class=\"node\">\n<title>4659859642307220592</title>\n<polygon fill=\"none\" stroke=\"black\" points=\"277.5,-180 74.5,-180 74.5,-144 277.5,-144 277.5,-180\"/>\n<text text-anchor=\"middle\" x=\"176\" y=\"-157\" font-family=\"Times,serif\" font-size=\"20.00\">series&#45;cumsum&#45;map&#45;#3</text>\n</g>\n<!-- &#45;6532519190736221679&#45;&gt;4659859642307220592 -->\n<g id=\"edge4\" class=\"edge\">\n<title>&#45;6532519190736221679&#45;&gt;4659859642307220592</title>\n<path fill=\"none\" stroke=\"black\" d=\"M176,-108.3C176,-116.02 176,-125.29 176,-133.89\"/>\n<polygon fill=\"black\" stroke=\"black\" points=\"172.5,-133.9 176,-143.9 179.5,-133.9 172.5,-133.9\"/>\n</g>\n<!-- 4659859642307220592&#45;&gt;8878704664709637137 -->\n<g id=\"edge1\" class=\"edge\">\n<title>4659859642307220592&#45;&gt;8878704664709637137</title>\n<path fill=\"none\" stroke=\"black\" d=\"M151.07,-180.14C139.94,-189.33 128,-201.71 122,-216 115.81,-230.75 115.98,-237.18 122,-252 126.34,-262.68 133.83,-272.43 141.87,-280.68\"/>\n<polygon fill=\"black\" stroke=\"black\" points=\"139.69,-283.44 149.34,-287.82 144.53,-278.38 139.69,-283.44\"/>\n</g>\n<!-- &#45;2947485594856256943 -->\n<g id=\"node5\" class=\"node\">\n<title>&#45;2947485594856256943</title>\n<polygon fill=\"none\" stroke=\"black\" points=\"367,-252 131,-252 131,-216 367,-216 367,-252\"/>\n<text text-anchor=\"middle\" x=\"249\" y=\"-229\" font-family=\"Times,serif\" font-size=\"20.00\">series&#45;cumsum&#45;take&#45;last&#45;#4</text>\n</g>\n<!-- 4659859642307220592&#45;&gt;&#45;2947485594856256943 -->\n<g id=\"edge5\" class=\"edge\">\n<title>4659859642307220592&#45;&gt;&#45;2947485594856256943</title>\n<path fill=\"none\" stroke=\"black\" d=\"M194.04,-180.3C203.06,-188.95 214.12,-199.55 223.94,-208.97\"/>\n<polygon fill=\"black\" stroke=\"black\" points=\"221.52,-211.5 231.16,-215.9 226.37,-206.45 221.52,-211.5\"/>\n</g>\n<!-- &#45;2947485594856256943&#45;&gt;8878704664709637137 -->\n<g id=\"edge2\" class=\"edge\">\n<title>&#45;2947485594856256943&#45;&gt;8878704664709637137</title>\n<path fill=\"none\" stroke=\"black\" d=\"M231.7,-252.18C223.1,-260.72 212.51,-271.24 202.88,-280.8\"/>\n<polygon fill=\"black\" stroke=\"black\" points=\"200.38,-278.35 195.75,-287.88 205.32,-283.32 200.38,-278.35\"/>\n</g>\n<!-- 1792982801475303002 -->\n<g id=\"node7\" class=\"node\">\n<title>1792982801475303002</title>\n<polygon fill=\"none\" stroke=\"black\" points=\"233.5,-489 118.5,-489 118.5,-453 233.5,-453 233.5,-489\"/>\n<text text-anchor=\"middle\" x=\"176\" y=\"-466\" font-family=\"Times,serif\" font-size=\"20.00\">resample&#45;#6</text>\n</g>\n<!-- 4418894687593942167&#45;&gt;1792982801475303002 -->\n<g id=\"edge7\" class=\"edge\">\n<title>4418894687593942167&#45;&gt;1792982801475303002</title>\n<path fill=\"none\" stroke=\"black\" d=\"M176,-417.11C176,-425.16 176,-434.12 176,-442.34\"/>\n<polygon fill=\"black\" stroke=\"black\" points=\"172.5,-442.59 176,-452.59 179.5,-442.59 172.5,-442.59\"/>\n</g>\n</g>\n</svg>\n",
      "text/plain": [
       "<graphviz.dot.Digraph at 0x7fba50a87430>"
      ]
     },
     "execution_count": 5,
     "metadata": {},
     "output_type": "execute_result"
    }
   ],
   "source": [
    "df.dask.visualize()"
   ]
  }
 ],
 "metadata": {
  "interpreter": {
   "hash": "459065f83c55c5ec87435afb9cf974e2bae185d60e66b2525285e1b3ed864f05"
  },
  "kernelspec": {
   "display_name": "Python 3.8.10 64-bit ('dask-dev': conda)",
   "name": "python3"
  },
  "language_info": {
   "name": "python",
   "version": ""
  }
 },
 "nbformat": 4,
 "nbformat_minor": 2
}