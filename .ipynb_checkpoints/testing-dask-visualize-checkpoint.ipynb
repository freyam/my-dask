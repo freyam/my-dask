{
 "cells": [
  {
   "cell_type": "markdown",
   "id": "b9859e99",
   "metadata": {},
   "source": [
    "# Testing the performance of `dask.visualize` at various number of nodes"
   ]
  },
  {
   "cell_type": "markdown",
   "id": "77a4ae79",
   "metadata": {},
   "source": [
    "### Assumptions made by me\n",
    "- 100 nodes of dask.array are the same as dask.dataframe or any other kind of Dask object\n",
    "- This test was conducted in a Python 3.8 Linux Environment and may/may not reflect Graphviz's performance reports elsewhere\n",
    "\n",
    "### Device Specifications\n",
    "```\n",
    "Architecture:                    x86_64\n",
    "CPU op-mode(s):                  32-bit, 64-bit\n",
    "Byte Order:                      Little Endian\n",
    "Address sizes:                   39 bits physical, 48 bits virtual\n",
    "CPU(s):                          8\n",
    "On-line CPU(s) list:             0-7\n",
    "Thread(s) per core:              2\n",
    "Core(s) per socket:              4\n",
    "Socket(s):                       1\n",
    "NUMA node(s):                    1\n",
    "Vendor ID:                       GenuineIntel\n",
    "CPU family:                      6\n",
    "Model:                           142\n",
    "Model name:                      Intel(R) Core(TM) i7-8565U CPU @ 1.80GHz\n",
    "```\n",
    "\n",
    "```\n",
    "frey@dhokla \n",
    "----------- \n",
    "OS: Pop!_OS 20.04 LTS x86_64 \n",
    "Host: HP Pavilion Laptop 15-cs1xxx \n",
    "Kernel: 5.11.0-7614-generic \n",
    "Uptime: 14 hours, 56 mins \n",
    "Packages: 2664 (dpkg), 12 (flatpak) \n",
    "Shell: zsh 5.8 \n",
    "Resolution: 1920x1080 \n",
    "DE: GNOME \n",
    "WM: Mutter \n",
    "WM Theme: Pop \n",
    "Theme: Nordic-darker [GTK2/3] \n",
    "Icons: Fluent [GTK2/3] \n",
    "Terminal: x-terminal-emul \n",
    "CPU: Intel i7-8565U (8) @ 4.600GHz \n",
    "GPU: NVIDIA GeForce GTX 1050 Mobile \n",
    "GPU: Intel UHD Graphics 620 \n",
    "Memory: 7018MiB / 15894MiB\n",
    "```\n",
    "\n",
    "```\n",
    " active environment : dask-dev\n",
    "    active env location : /home/frey/miniconda3/envs/dask-dev\n",
    "            shell level : 2\n",
    "       user config file : /home/frey/.condarc\n",
    " populated config files : /home/frey/.condarc\n",
    "          conda version : 4.10.1\n",
    "    conda-build version : not installed\n",
    "         python version : 3.8.5.final.0\n",
    "       virtual packages : __cuda=11.2=0\n",
    "                          __linux=5.11.0=0\n",
    "                          __glibc=2.31=0\n",
    "                          __unix=0=0\n",
    "                          __archspec=1=x86_64\n",
    "       base environment : /home/frey/miniconda3  (writable)\n",
    "      conda av data dir : /home/frey/miniconda3/etc/conda\n",
    "  conda av metadata url : https://repo.anaconda.com/pkgs/main\n",
    "           channel URLs : https://repo.anaconda.com/pkgs/main/linux-64\n",
    "                          https://repo.anaconda.com/pkgs/main/noarch\n",
    "                          https://repo.anaconda.com/pkgs/r/linux-64\n",
    "                          https://repo.anaconda.com/pkgs/r/noarch\n",
    "          package cache : /home/frey/miniconda3/pkgs\n",
    "                          /home/frey/.conda/pkgs\n",
    "       envs directories : /home/frey/miniconda3/envs\n",
    "                          /home/frey/.conda/envs\n",
    "               platform : linux-64\n",
    "             user-agent : conda/4.10.1 requests/2.24.0 CPython/3.8.5 Linux/5.11.0-7614-generic pop/20.04 glibc/2.31\n",
    "                UID:GID : 1000:1000\n",
    "             netrc file : None\n",
    "           offline mode : False\n",
    "```"
   ]
  },
  {
   "cell_type": "code",
   "execution_count": 1,
   "id": "9f8db9cb",
   "metadata": {},
   "outputs": [],
   "source": [
    "import dask.array as da"
   ]
  },
  {
   "cell_type": "code",
   "execution_count": 2,
   "id": "022dd306",
   "metadata": {},
   "outputs": [
    {
     "name": "stdout",
     "output_type": "stream",
     "text": [
      "44.5 ms ± 1.87 ms per loop (mean ± std. dev. of 7 runs, 10 loops each)\n"
     ]
    }
   ],
   "source": [
    "# 10 nodes\n",
    "\n",
    "ten = da.ones((1,10), chunks=(1,1))\n",
    "\n",
    "%timeit ten.visualize()"
   ]
  },
  {
   "cell_type": "code",
   "execution_count": 3,
   "id": "96fd66ee",
   "metadata": {},
   "outputs": [
    {
     "name": "stdout",
     "output_type": "stream",
     "text": [
      "259 ms ± 20.8 ms per loop (mean ± std. dev. of 7 runs, 1 loop each)\n"
     ]
    }
   ],
   "source": [
    "# 100 nodes\n",
    "\n",
    "hundred = da.ones((1,100), chunks=(1,1))\n",
    "\n",
    "%timeit hundred.visualize()"
   ]
  },
  {
   "cell_type": "code",
   "execution_count": 4,
   "id": "3ba46ef1",
   "metadata": {},
   "outputs": [
    {
     "name": "stderr",
     "output_type": "stream",
     "text": [
      "dot: graph is too large for cairo-renderer bitmaps. Scaling by 0.431218 to fit\n",
      "dot: graph is too large for cairo-renderer bitmaps. Scaling by 0.431218 to fit\n",
      "dot: graph is too large for cairo-renderer bitmaps. Scaling by 0.431218 to fit\n",
      "dot: graph is too large for cairo-renderer bitmaps. Scaling by 0.431218 to fit\n",
      "dot: graph is too large for cairo-renderer bitmaps. Scaling by 0.431218 to fit\n",
      "dot: graph is too large for cairo-renderer bitmaps. Scaling by 0.431218 to fit\n",
      "dot: graph is too large for cairo-renderer bitmaps. Scaling by 0.431218 to fit\n",
      "dot: graph is too large for cairo-renderer bitmaps. Scaling by 0.431218 to fit\n"
     ]
    },
    {
     "name": "stdout",
     "output_type": "stream",
     "text": [
      "463 ms ± 21.6 ms per loop (mean ± std. dev. of 7 runs, 1 loop each)\n"
     ]
    }
   ],
   "source": [
    "# 500 nodes\n",
    "\n",
    "five_hundred = da.ones((1,500), chunks=(1,1))\n",
    "\n",
    "%timeit five_hundred.visualize()"
   ]
  },
  {
   "cell_type": "code",
   "execution_count": 5,
   "id": "b1ce359f",
   "metadata": {},
   "outputs": [
    {
     "name": "stderr",
     "output_type": "stream",
     "text": [
      "dot: graph is too large for cairo-renderer bitmaps. Scaling by 0.215591 to fit\n",
      "dot: graph is too large for cairo-renderer bitmaps. Scaling by 0.215591 to fit\n",
      "dot: graph is too large for cairo-renderer bitmaps. Scaling by 0.215591 to fit\n",
      "dot: graph is too large for cairo-renderer bitmaps. Scaling by 0.215591 to fit\n",
      "dot: graph is too large for cairo-renderer bitmaps. Scaling by 0.215591 to fit\n",
      "dot: graph is too large for cairo-renderer bitmaps. Scaling by 0.215591 to fit\n",
      "dot: graph is too large for cairo-renderer bitmaps. Scaling by 0.215591 to fit\n",
      "dot: graph is too large for cairo-renderer bitmaps. Scaling by 0.215591 to fit\n"
     ]
    },
    {
     "name": "stdout",
     "output_type": "stream",
     "text": [
      "775 ms ± 40.5 ms per loop (mean ± std. dev. of 7 runs, 1 loop each)\n"
     ]
    }
   ],
   "source": [
    "# 1000 nodes\n",
    "\n",
    "thousand = da.ones((1,1000), chunks=(1,1))\n",
    "\n",
    "%timeit thousand.visualize()"
   ]
  },
  {
   "cell_type": "code",
   "execution_count": 6,
   "id": "5c4dd261",
   "metadata": {},
   "outputs": [
    {
     "name": "stderr",
     "output_type": "stream",
     "text": [
      "dot: graph is too large for cairo-renderer bitmaps. Scaling by 0.107791 to fit\n",
      "dot: graph is too large for cairo-renderer bitmaps. Scaling by 0.107791 to fit\n",
      "dot: graph is too large for cairo-renderer bitmaps. Scaling by 0.107791 to fit\n",
      "dot: graph is too large for cairo-renderer bitmaps. Scaling by 0.107791 to fit\n",
      "dot: graph is too large for cairo-renderer bitmaps. Scaling by 0.107791 to fit\n",
      "dot: graph is too large for cairo-renderer bitmaps. Scaling by 0.107791 to fit\n",
      "dot: graph is too large for cairo-renderer bitmaps. Scaling by 0.107791 to fit\n",
      "dot: graph is too large for cairo-renderer bitmaps. Scaling by 0.107791 to fit\n"
     ]
    },
    {
     "name": "stdout",
     "output_type": "stream",
     "text": [
      "3.34 s ± 427 ms per loop (mean ± std. dev. of 7 runs, 1 loop each)\n"
     ]
    }
   ],
   "source": [
    "# 2000 nodes\n",
    "105226460\n",
    "two_thousand = da.ones((1,2000), chunks=(1,1))\n",
    "\n",
    "%timeit two_thousand.visualize()"
   ]
  },
  {
   "cell_type": "code",
   "execution_count": 7,
   "id": "2f762b91",
   "metadata": {},
   "outputs": [
    {
     "name": "stderr",
     "output_type": "stream",
     "text": [
      "dot: graph is too large for cairo-renderer bitmaps. Scaling by 0.0431152 to fit\n",
      "dot: graph is too large for cairo-renderer bitmaps. Scaling by 0.0431152 to fit\n",
      "dot: graph is too large for cairo-renderer bitmaps. Scaling by 0.0431152 to fit\n",
      "dot: graph is too large for cairo-renderer bitmaps. Scaling by 0.0431152 to fit\n",
      "dot: graph is too large for cairo-renderer bitmaps. Scaling by 0.0431152 to fit\n",
      "dot: graph is too large for cairo-renderer bitmaps. Scaling by 0.0431152 to fit\n",
      "dot: graph is too large for cairo-renderer bitmaps. Scaling by 0.0431152 to fit\n",
      "dot: graph is too large for cairo-renderer bitmaps. Scaling by 0.0431152 to fit\n"
     ]
    },
    {
     "name": "stdout",
     "output_type": "stream",
     "text": [
      "54.2 s ± 2.71 s per loop (mean ± std. dev. of 7 runs, 1 loop each)\n"
     ]
    }
   ],
   "source": [
    "# 5000 nodes\n",
    "\n",
    "five_thousand = da.ones((1,5000), chunks=(1,1))\n",
    "\n",
    "%timeit five_thousand.visualize()"
   ]
  },
  {
   "cell_type": "markdown",
   "id": "8afd59f4",
   "metadata": {},
   "source": [
    "## Analysis\n",
    "\n",
    "| Nodes |    10   |   100  |   500  |  1000  |   2000  |   5000   |\n",
    "|:-----:|:-------:|:------:|:------:|:------:|:-------:|:--------:|\n",
    "|  Time | 32.3 ms | 113 ms | 372 ms | 522 ms | 2006 ms | 42000 ms |\n",
    "\n",
    "## Equation\n",
    "`(Time) = 0.002373638*(Nodes)^2 - 3.641743*(Nodes) + 762.195`\n",
    "\n",
    "## Plot\n",
    "![Graph](https://i.imgur.com/uRdbOzi.png?raw=true)\n",
    "![Graph](https://i.imgur.com/hc6or7J.png?raw=true)\n",
    "![Graph](https://i.imgur.com/RBhTDpb.png?raw=true)\n",
    "![Graph](https://i.imgur.com/nUTtWHE.png?raw=true)"
   ]
  }
 ],
 "metadata": {
  "kernelspec": {
   "display_name": "Python 3 (ipykernel)",
   "language": "python",
   "name": "python3"
  },
  "language_info": {
   "codemirror_mode": {
    "name": "ipython",
    "version": 3
   },
   "file_extension": ".py",
   "mimetype": "text/x-python",
   "name": "python",
   "nbconvert_exporter": "python",
   "pygments_lexer": "ipython3",
   "version": "3.8.5"
  }
 },
 "nbformat": 4,
 "nbformat_minor": 5
}
