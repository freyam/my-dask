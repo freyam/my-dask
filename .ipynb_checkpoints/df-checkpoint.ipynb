{
 "cells": [
  {
   "cell_type": "code",
   "execution_count": 1,
   "metadata": {},
   "outputs": [],
   "source": [
    "%load_ext autoreload\n",
    "%autoreload 2"
   ]
  },
  {
   "cell_type": "code",
   "execution_count": 5,
   "metadata": {},
   "outputs": [
    {
     "data": {
      "text/html": [
       "\n",
       "            <div>\n",
       "                <div>\n",
       "                    <div style=\"width: 52px; height: 52px; position: absolute;\">\n",
       "                        \n",
       "            <svg width=\"76\" height=\"71\" viewBox=\"0 0 76 71\" fill=\"none\" xmlns=\"http://www.w3.org/2000/svg\">\n",
       "                <circle cx=\"61.5\" cy=\"36.5\" r=\"13.5\"\n",
       "                    style=\"stroke: var(--jp-ui-font-color2, #1D1D1D); fill: var(--jp-layout-color1, #F2F2F2);\"\n",
       "                    stroke-width=\"2\"/>\n",
       "                <circle cx=\"14.5\" cy=\"14.5\" r=\"13.5\"\n",
       "                    style=\"stroke: var(--jp-ui-font-color2, #1D1D1D); fill: var(--jp-layout-color1, #F2F2F2);\"\n",
       "                    stroke-width=\"2\"/>\n",
       "                <circle cx=\"14.5\" cy=\"56.5\" r=\"13.5\"\n",
       "                    style=\"stroke: var(--jp-ui-font-color2, #1D1D1D); fill: var(--jp-layout-color1, #F2F2F2);\"\n",
       "                    stroke-width=\"2\"/>\n",
       "                <path d=\"M28 16L30.5 16C33.2614 16 35.5 18.2386 35.5 21L35.5 32.0001C35.5 34.7615 37.7386\n",
       "                    37.0001 40.5 37.0001L43 37.0001\" style=\"stroke: var(--jp-ui-font-color2, #1D1D1D);\"\n",
       "                    stroke-width=\"1.5\"/>\n",
       "                <path d=\"M40.5 37L40.5 37.75L40.5 37.75L40.5 37ZM35.5 42L36.25 42L35.5 42ZM35.5 52L34.75\n",
       "                    52L35.5 52ZM30.5 57L30.5 57.75L30.5 57ZM41.5001 36.25L40.5 36.25L40.5 37.75L41.5001\n",
       "                    37.75L41.5001 36.25ZM34.75 42L34.75 52L36.25 52L36.25 42L34.75 42ZM30.5 56.25L28.0001\n",
       "                    56.25L28.0001 57.75L30.5 57.75L30.5 56.25ZM34.75 52C34.75 54.3472 32.8472 56.25 30.5\n",
       "                    56.25L30.5 57.75C33.6756 57.75 36.25 55.1756 36.25 52L34.75 52ZM40.5 36.25C37.3244 36.25\n",
       "                    34.75 38.8243 34.75 42L36.25 42C36.25 39.6528 38.1528 37.75 40.5 37.75L40.5 36.25Z\"\n",
       "                    style=\"fill: var(--jp-ui-font-color2, #1D1D1D);\"/>\n",
       "                <circle cx=\"28\" cy=\"16\" r=\"2.25\" fill=\"#E5E5E5\"\n",
       "                    style=\"stroke: var(--jp-ui-font-color2, #1D1D1D);\" stroke-width=\"1.5\"/>\n",
       "                <circle cx=\"28\" cy=\"57\" r=\"2.25\" fill=\"#E5E5E5\"\n",
       "                    style=\"stroke: var(--jp-ui-font-color2, #1D1D1D);\" stroke-width=\"1.5\"/>\n",
       "                <path d=\"M45.25 36.567C45.5833 36.7594 45.5833 37.2406 45.25 37.433L42.25 39.1651C41.9167\n",
       "                    39.3575 41.5 39.117 41.5 38.7321V35.2679C41.5 34.883 41.9167 34.6425 42.25 34.8349L45.25\n",
       "                    36.567Z\" style=\"fill: var(--jp-ui-font-color2, #1D1D1D);\"/>\n",
       "            </svg>\n",
       "        \n",
       "                    </div>\n",
       "                    <div style=\"margin-left: 64px;\">\n",
       "                        <h3 style=\"margin-bottom: 0px;\">HighLevelGraph</h3>\n",
       "                        <p style=\"color: var(--jp-ui-font-color2, #5D5851); margin-bottom:0px;\">\n",
       "                            HighLevelGraph with 2 layers.\n",
       "                        </p>\n",
       "                        \n",
       "            <div style=\"\">\n",
       "                \n",
       "            <svg width=\"24\" height=\"24\" viewBox=\"0 0 32 32\" fill=\"none\"\n",
       "                xmlns=\"http://www.w3.org/2000/svg\" style=\"position: absolute;\">\n",
       "                <circle cx=\"16\" cy=\"16\" r=\"14\" fill=\"#8F8F8F\"\n",
       "                    style=\"stroke: var(--jp-ui-font-color2, #1D1D1D);\" stroke-width=\"2\"/>\n",
       "            </svg>\n",
       "        \n",
       "                <details style=\"margin-left: 32px;\">\n",
       "                    <summary style=\"margin-bottom: 10px; margin-top: 10px;\">\n",
       "                        <h4 style=\"display: inline;\">Layer 0: repartition-merge</h4>\n",
       "                    </summary>\n",
       "                    <p style=\"color: var(--jp-ui-font-color2, #5D5851); margin: -0.25em 0px 0px 0px;\">\n",
       "                        repartition-merge-bd53299b6105790270bfd1b40206bc7a\n",
       "                    </p>\n",
       "                    \n",
       "                    <table style=\"width: 100%;\">\n",
       "          <tr>\n",
       "            <th style=\"text-align: left; width: 150px;\">layer_type</th>\n",
       "            <td style=\"text-align: left;\">MaterializedLayer</td>\n",
       "          </tr>\n",
       "        \n",
       "          <tr>\n",
       "            <th style=\"text-align: left; width: 150px;\">is_materialized</th>\n",
       "            <td style=\"text-align: left;\">True</td>\n",
       "          </tr>\n",
       "        </table>\n",
       "                </details>\n",
       "            </div>\n",
       "            \n",
       "            <div style=\"\">\n",
       "                \n",
       "            <svg width=\"24\" height=\"24\" viewBox=\"0 0 32 32\" fill=\"none\"\n",
       "                xmlns=\"http://www.w3.org/2000/svg\" style=\"position: absolute;\">\n",
       "                <circle cx=\"16\" cy=\"16\" r=\"14\" fill=\"#8F8F8F\"\n",
       "                    style=\"stroke: var(--jp-ui-font-color2, #1D1D1D);\" stroke-width=\"2\"/>\n",
       "            </svg>\n",
       "        \n",
       "                <details style=\"margin-left: 32px;\">\n",
       "                    <summary style=\"margin-bottom: 10px; margin-top: 10px;\">\n",
       "                        <h4 style=\"display: inline;\">Layer 1: resample</h4>\n",
       "                    </summary>\n",
       "                    <p style=\"color: var(--jp-ui-font-color2, #5D5851); margin: -0.25em 0px 0px 0px;\">\n",
       "                        resample-b3a9af2c7dc97c963da89acdf48253cc\n",
       "                    </p>\n",
       "                    \n",
       "                    <table style=\"width: 100%;\">\n",
       "          <tr>\n",
       "            <th style=\"text-align: left; width: 150px;\">layer_type</th>\n",
       "            <td style=\"text-align: left;\">MaterializedLayer</td>\n",
       "          </tr>\n",
       "        \n",
       "          <tr>\n",
       "            <th style=\"text-align: left; width: 150px;\">is_materialized</th>\n",
       "            <td style=\"text-align: left;\">True</td>\n",
       "          </tr>\n",
       "        </table>\n",
       "                </details>\n",
       "            </div>\n",
       "            \n",
       "                    </div>\n",
       "                </div>\n",
       "            </div>\n",
       "        "
      ],
      "text/plain": [
       "HighLevelGraph with 2 layers.\n",
       "<dask.highlevelgraph.HighLevelGraph object at 0x7fe3e8d2d0d0>\n",
       " 0. repartition-merge-bd53299b6105790270bfd1b40206bc7a\n",
       " 1. resample-b3a9af2c7dc97c963da89acdf48253cc"
      ]
     },
     "execution_count": 5,
     "metadata": {},
     "output_type": "execute_result"
    }
   ],
   "source": [
    "import dask.dataframe as dd\n",
    "\n",
    "df = dd.demo.make_timeseries(start='2000', end='2015', dtypes={'A': float, 'B': int},\n",
    "                             freq='5s', partition_freq='3M', seed=1234)\n",
    "df = df.A.cumsum().resample('1w').mean()\n",
    "\n",
    "df.dask"
   ]
  },
  {
   "cell_type": "code",
   "execution_count": 4,
   "metadata": {},
   "outputs": [
    {
     "name": "stdout",
     "output_type": "stream",
     "text": [
      "> \u001b[0;32m/home/frey/GitHub/dask/dask/highlevelgraph.py\u001b[0m(535)\u001b[0;36mlayer_info_dict\u001b[0;34m()\u001b[0m\n",
      "\u001b[0;32m    533 \u001b[0;31m    \u001b[0;32mdef\u001b[0m \u001b[0mlayer_info_dict\u001b[0m\u001b[0;34m(\u001b[0m\u001b[0mself\u001b[0m\u001b[0;34m)\u001b[0m\u001b[0;34m:\u001b[0m\u001b[0;34m\u001b[0m\u001b[0;34m\u001b[0m\u001b[0m\n",
      "\u001b[0m\u001b[0;32m    534 \u001b[0;31m        info = {\n",
      "\u001b[0m\u001b[0;32m--> 535 \u001b[0;31m            \u001b[0;34m\"layer_type\"\u001b[0m\u001b[0;34m:\u001b[0m \u001b[0mself\u001b[0m\u001b[0;34m.\u001b[0m\u001b[0mcollection_annotations\u001b[0m\u001b[0;34m.\u001b[0m\u001b[0mget\u001b[0m\u001b[0;34m(\u001b[0m\u001b[0;34m\"type\"\u001b[0m\u001b[0;34m)\u001b[0m\u001b[0;34m,\u001b[0m\u001b[0;34m\u001b[0m\u001b[0;34m\u001b[0m\u001b[0m\n",
      "\u001b[0m\u001b[0;32m    536 \u001b[0;31m            \u001b[0;34m\"is_materialized\"\u001b[0m\u001b[0;34m:\u001b[0m \u001b[0mself\u001b[0m\u001b[0;34m.\u001b[0m\u001b[0mis_materialized\u001b[0m\u001b[0;34m(\u001b[0m\u001b[0;34m)\u001b[0m\u001b[0;34m,\u001b[0m\u001b[0;34m\u001b[0m\u001b[0;34m\u001b[0m\u001b[0m\n",
      "\u001b[0m\u001b[0;32m    537 \u001b[0;31m        }\n",
      "\u001b[0m\n"
     ]
    },
    {
     "name": "stdin",
     "output_type": "stream",
     "text": [
      "ipdb>  type(self)\n"
     ]
    },
    {
     "name": "stdout",
     "output_type": "stream",
     "text": [
      "<class 'dask.blockwise.Blockwise'>\n"
     ]
    },
    {
     "name": "stdin",
     "output_type": "stream",
     "text": [
      "ipdb>  type(self.collection_annotations)\n"
     ]
    },
    {
     "name": "stdout",
     "output_type": "stream",
     "text": [
      "<class 'NoneType'>\n"
     ]
    },
    {
     "name": "stdin",
     "output_type": "stream",
     "text": [
      "ipdb>  self.is_materialized()\n"
     ]
    },
    {
     "name": "stdout",
     "output_type": "stream",
     "text": [
      "False\n"
     ]
    },
    {
     "name": "stdin",
     "output_type": "stream",
     "text": [
      "ipdb>  q\n"
     ]
    }
   ],
   "source": [
    "%debug"
   ]
  },
  {
   "cell_type": "code",
   "execution_count": 15,
   "metadata": {},
   "outputs": [
    {
     "data": {
      "text/html": [
       "<div><strong>Dask DataFrame Structure:</strong></div>\n",
       "<div>\n",
       "<style scoped>\n",
       "    .dataframe tbody tr th:only-of-type {\n",
       "        vertical-align: middle;\n",
       "    }\n",
       "\n",
       "    .dataframe tbody tr th {\n",
       "        vertical-align: top;\n",
       "    }\n",
       "\n",
       "    .dataframe thead th {\n",
       "        text-align: right;\n",
       "    }\n",
       "</style>\n",
       "<table border=\"1\" class=\"dataframe\">\n",
       "  <thead>\n",
       "    <tr style=\"text-align: right;\">\n",
       "      <th></th>\n",
       "      <th>id</th>\n",
       "      <th>name</th>\n",
       "      <th>x</th>\n",
       "      <th>y</th>\n",
       "    </tr>\n",
       "    <tr>\n",
       "      <th>npartitions=30</th>\n",
       "      <th></th>\n",
       "      <th></th>\n",
       "      <th></th>\n",
       "      <th></th>\n",
       "    </tr>\n",
       "  </thead>\n",
       "  <tbody>\n",
       "    <tr>\n",
       "      <th>2000-01-01</th>\n",
       "      <td>int64</td>\n",
       "      <td>object</td>\n",
       "      <td>float64</td>\n",
       "      <td>float64</td>\n",
       "    </tr>\n",
       "    <tr>\n",
       "      <th>2000-01-02</th>\n",
       "      <td>...</td>\n",
       "      <td>...</td>\n",
       "      <td>...</td>\n",
       "      <td>...</td>\n",
       "    </tr>\n",
       "    <tr>\n",
       "      <th>...</th>\n",
       "      <td>...</td>\n",
       "      <td>...</td>\n",
       "      <td>...</td>\n",
       "      <td>...</td>\n",
       "    </tr>\n",
       "    <tr>\n",
       "      <th>2000-01-30</th>\n",
       "      <td>...</td>\n",
       "      <td>...</td>\n",
       "      <td>...</td>\n",
       "      <td>...</td>\n",
       "    </tr>\n",
       "    <tr>\n",
       "      <th>2000-01-31</th>\n",
       "      <td>...</td>\n",
       "      <td>...</td>\n",
       "      <td>...</td>\n",
       "      <td>...</td>\n",
       "    </tr>\n",
       "  </tbody>\n",
       "</table>\n",
       "</div>\n",
       "<div>Dask Name: make-timeseries, 30 tasks</div>"
      ],
      "text/plain": [
       "Dask DataFrame Structure:\n",
       "                   id    name        x        y\n",
       "npartitions=30                                 \n",
       "2000-01-01      int64  object  float64  float64\n",
       "2000-01-02        ...     ...      ...      ...\n",
       "...               ...     ...      ...      ...\n",
       "2000-01-30        ...     ...      ...      ...\n",
       "2000-01-31        ...     ...      ...      ...\n",
       "Dask Name: make-timeseries, 30 tasks"
      ]
     },
     "execution_count": 15,
     "metadata": {},
     "output_type": "execute_result"
    }
   ],
   "source": [
    "import dask\n",
    "import dask.dataframe as dd\n",
    "\n",
    "df = dask.datasets.timeseries()\n",
    "df2 = df[df.y > 0]\n",
    "df3 = df2.groupby('name').x.std()\n",
    "\n",
    "df"
   ]
  }
 ],
 "metadata": {
  "interpreter": {
   "hash": "459065f83c55c5ec87435afb9cf974e2bae185d60e66b2525285e1b3ed864f05"
  },
  "kernelspec": {
   "display_name": "Python 3 (ipykernel)",
   "language": "python",
   "name": "python3"
  },
  "language_info": {
   "codemirror_mode": {
    "name": "ipython",
    "version": 3
   },
   "file_extension": ".py",
   "mimetype": "text/x-python",
   "name": "python",
   "nbconvert_exporter": "python",
   "pygments_lexer": "ipython3",
   "version": "3.8.10"
  }
 },
 "nbformat": 4,
 "nbformat_minor": 4
}
