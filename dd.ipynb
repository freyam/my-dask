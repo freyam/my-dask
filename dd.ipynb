{
 "cells": [
  {
   "cell_type": "markdown",
   "metadata": {},
   "source": [
    "# Dask DataFrames"
   ]
  },
  {
   "cell_type": "code",
   "execution_count": null,
   "metadata": {},
   "outputs": [],
   "source": [
    "%load_ext autoreload\n",
    "%autoreload 2"
   ]
  },
  {
   "cell_type": "code",
   "execution_count": null,
   "metadata": {},
   "outputs": [],
   "source": [
    "import dask\n",
    "import dask.dataframe as dd"
   ]
  },
  {
   "cell_type": "code",
   "execution_count": null,
   "metadata": {
    "collapsed": true
   },
   "outputs": [],
   "source": [
    "import dask.dataframe as dd\n",
    "\n",
    "df = dd.demo.make_timeseries(start='2000', end='2015', dtypes={'A': float, 'B': int},\n",
    "                             freq='5s', partition_freq='3M', seed=1234)\n",
    "df = df.A.cumsum().resample('1w').mean()\n",
    "\n",
    "df.dask"
   ]
  },
  {
   "cell_type": "code",
   "execution_count": null,
   "metadata": {},
   "outputs": [],
   "source": [
    "import dask\n",
    "import dask.dataframe as dd\n",
    "\n",
    "df = dask.datasets.timeseries()\n",
    "df2 = df[df.y > 0]\n",
    "df3 = df2.groupby('name').x.std()\n",
    "\n",
    "df3.dask"
   ]
  }
 ],
 "metadata": {
  "interpreter": {
   "hash": "459065f83c55c5ec87435afb9cf974e2bae185d60e66b2525285e1b3ed864f05"
  },
  "kernelspec": {
   "display_name": "Python 3.8.10 64-bit ('dask-dev': conda)",
   "name": "python3"
  },
  "language_info": {
   "name": "python",
   "version": ""
  }
 },
 "nbformat": 4,
 "nbformat_minor": 2
}